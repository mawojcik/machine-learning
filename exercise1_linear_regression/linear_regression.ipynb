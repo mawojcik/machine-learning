{
 "cells": [
  {
   "cell_type": "markdown",
   "metadata": {},
   "source": [
    "# Exercises\n",
    "\n",
    "There are three exercises in this notebook:\n",
    "\n",
    "1. Use the cross-validation method to test the linear regression with different $\\alpha$ values, at least three.\n",
    "2. Implement a SGD method that will train the Lasso regression for 10 epochs.\n",
    "3. Extend the Fisher's classifier to work with two features. Use the class as the $y$."
   ]
  },
  {
   "cell_type": "markdown",
   "metadata": {},
   "source": [
    "## 1. Cross-validation linear regression\n",
    "\n",
    "You need to change the variable ``alpha`` to be a list of alphas. Next do a loop and finally compare the results."
   ]
  },
  {
   "cell_type": "code",
   "execution_count": 1,
   "outputs": [],
   "source": [
    "import numpy as np"
   ],
   "metadata": {
    "collapsed": false,
    "ExecuteTime": {
     "end_time": "2025-03-26T18:40:01.007192Z",
     "start_time": "2025-03-26T18:40:00.964284Z"
    }
   }
  },
  {
   "cell_type": "code",
   "execution_count": 17,
   "metadata": {
    "ExecuteTime": {
     "end_time": "2025-03-26T19:13:52.577181Z",
     "start_time": "2025-03-26T19:13:52.575416Z"
    }
   },
   "outputs": [
    {
     "name": "stdout",
     "output_type": "stream",
     "text": [
      "Alpha: 0.1, Weights: [[-101.72397081    1.16978757]]\n",
      "Alpha: 0.5, Weights: [[-36.97522016   0.80324169]]\n",
      "Alpha: 1, Weights: [[-20.59044706   0.71048616]]\n",
      "Alpha: 10, Weights: [[-2.29106262  0.60688107]]\n",
      "Alpha: 100, Weights: [[-0.22873     0.59509096]]\n",
      "Alpha: 300, Weights: [[-0.07407007  0.59395968]]\n"
     ]
    }
   ],
   "source": [
    "x = np.array([188, 181, 197, 168, 167, 187, 178, 194, 140, 176, 168, 192, 173, 142, 176]).reshape(-1, 1).reshape(15,1)\n",
    "y = np.array([141, 106, 149, 59, 79, 136, 65, 136, 52, 87, 115, 140, 82, 69, 121]).reshape(-1, 1).reshape(15,1)\n",
    "\n",
    "x = np.asmatrix(np.c_[np.ones((15,1)),x])\n",
    "\n",
    "I = np.identity(2)\n",
    "alphas = [0.1, 0.5, 1, 10, 100, 300]\n",
    "weights = {}\n",
    "mserrors = {}\n",
    "\n",
    "for alpha in alphas:\n",
    "    w = np.linalg.inv(x.T*x + alpha * I)*x.T*y\n",
    "    weights[alpha] = w.ravel()\n",
    "\n",
    "for alpha, w in weights.items():\n",
    "    print(f\"Alpha: {alpha}, Weights: {w}\")"
   ]
  },
  {
   "cell_type": "markdown",
   "metadata": {},
   "source": [
    "## 2. Implement based on the Ridge regression example, the Lasso regression.\n",
    "\n",
    "Please implement the SGD method and compare the results with the sklearn Lasso regression results. "
   ]
  },
  {
   "cell_type": "code",
   "execution_count": 105,
   "metadata": {
    "ExecuteTime": {
     "end_time": "2025-03-26T22:16:09.025524Z",
     "start_time": "2025-03-26T22:16:09.023327Z"
    }
   },
   "outputs": [],
   "source": [
    "def sgd(x, y, n, epochs=1000):\n",
    "    x_mean, x_std = np.mean(x), np.std(x)\n",
    "    y_mean, y_std = np.mean(y), np.std(y)\n",
    "    x = (x - x_mean) / x_std\n",
    "    y = (y - y_mean) / y_std\n",
    "    w, b = 0.0, 0.0\n",
    "\n",
    "\n",
    "    for _ in range(epochs):\n",
    "        indices = np.random.permutation(len(y))\n",
    "        for i in indices:\n",
    "            xi, yi = x[i], y[i]\n",
    "            y_pred = w * xi + b\n",
    "            error = y_pred - yi\n",
    "\n",
    "            w -= n * error * xi\n",
    "            b -= n * error\n",
    "\n",
    "\n",
    "    w = w * (y_std / x_std)\n",
    "    b = y_mean - w * x_mean\n",
    "\n",
    "    return float(b[0]), float(w[0])"
   ]
  },
  {
   "cell_type": "code",
   "execution_count": 112,
   "metadata": {
    "ExecuteTime": {
     "end_time": "2025-03-26T22:17:07.946254Z",
     "start_time": "2025-03-26T22:17:07.943097Z"
    }
   },
   "outputs": [
    {
     "name": "stdout",
     "output_type": "stream",
     "text": [
      "Lasso: -180.85790859980537 1.6177649901016675\n",
      "sgd: (-183.42681605988574, 1.6324332854580457)\n"
     ]
    }
   ],
   "source": [
    "from sklearn.linear_model import Lasso\n",
    "x = np.array([188, 181, 197, 168, 167, 187, 178, 194, 140, 176, 168, 192, 173, 142, 176]).reshape(-1, 1).reshape(15,1)\n",
    "y = np.array([141, 106, 149, 59, 79, 136, 65, 136, 52, 87, 115, 140, 82, 69, 121]).reshape(-1, 1).reshape(15,1)\n",
    "\n",
    "alpha = 0.1\n",
    "lasso_regression = Lasso(alpha=alpha)\n",
    "lasso_regression.fit(X=x, y=y)\n",
    "print(f'Lasso: {lasso_regression.intercept_[0]} {lasso_regression.coef_[0]}')\n",
    "\n",
    "print(f'sgd: {sgd(x, y, alpha, 10)}')\n"
   ]
  },
  {
   "cell_type": "markdown",
   "metadata": {},
   "source": [
    "## 3. Extend the Fisher's classifier\n",
    "\n",
    "Please extend the targets of the ``iris_data`` variable and use it as the $y$."
   ]
  },
  {
   "cell_type": "code",
   "execution_count": 130,
   "metadata": {
    "ExecuteTime": {
     "end_time": "2025-03-26T22:27:23.482052Z",
     "start_time": "2025-03-26T22:27:23.474683Z"
    }
   },
   "outputs": [
    {
     "data": {
      "text/plain": "array([[0.92478522, 1.05141831],\n       [0.88521238, 1.03558917],\n       [0.90104152, 1.01976004],\n       [0.89312695, 1.01184547],\n       [0.93269979, 1.04350374],\n       [0.95644349, 1.07516201],\n       [0.91687065, 1.01184547],\n       [0.91687065, 1.04350374],\n       [0.87729781, 0.99601633],\n       [0.89312695, 1.03558917],\n       [0.94061436, 1.07516201],\n       [0.91687065, 1.02767461],\n       [0.88521238, 1.02767461],\n       [0.88521238, 0.98810177],\n       [0.96435806, 1.10682029],\n       [0.99601633, 1.09890572],\n       [0.95644349, 1.07516201],\n       [0.92478522, 1.05141831],\n       [0.94852893, 1.09890572],\n       [0.94852893, 1.05141831],\n       [0.91687065, 1.07516201],\n       [0.94061436, 1.05141831],\n       [0.93269979, 1.01184547],\n       [0.90895609, 1.05141831],\n       [0.91687065, 1.02767461],\n       [0.88521238, 1.04350374],\n       [0.91687065, 1.04350374],\n       [0.92478522, 1.05933288],\n       [0.91687065, 1.05933288],\n       [0.90104152, 1.01976004],\n       [0.89312695, 1.02767461],\n       [0.91687065, 1.07516201],\n       [0.97227263, 1.05933288],\n       [0.9801872 , 1.08307658],\n       [0.89312695, 1.03558917],\n       [0.90104152, 1.04350374],\n       [0.92478522, 1.08307658],\n       [0.93269979, 1.03558917],\n       [0.88521238, 0.99601633],\n       [0.91687065, 1.05141831],\n       [0.92478522, 1.04350374],\n       [0.82981041, 1.0039309 ],\n       [0.90104152, 0.99601633],\n       [0.92478522, 1.04350374],\n       [0.94852893, 1.05141831],\n       [0.88521238, 1.02767461],\n       [0.94852893, 1.05141831],\n       [0.90104152, 1.01184547],\n       [0.94061436, 1.06724745],\n       [0.90895609, 1.04350374],\n       [0.90104152, 1.2017951 ],\n       [0.90104152, 1.15430769],\n       [0.89312695, 1.19388053],\n       [0.82981041, 1.08307658],\n       [0.86938325, 1.16222226],\n       [0.86938325, 1.09890572],\n       [0.90895609, 1.14639313],\n       [0.83772498, 1.03558917],\n       [0.87729781, 1.17013683],\n       [0.86146868, 1.05933288],\n       [0.8060667 , 1.04350374],\n       [0.88521238, 1.11473485],\n       [0.82189584, 1.12264942],\n       [0.87729781, 1.13056399],\n       [0.87729781, 1.09099115],\n       [0.89312695, 1.1780514 ],\n       [0.88521238, 1.09099115],\n       [0.86146868, 1.10682029],\n       [0.82189584, 1.13847856],\n       [0.84563954, 1.09099115],\n       [0.90104152, 1.11473485],\n       [0.86938325, 1.13056399],\n       [0.84563954, 1.14639313],\n       [0.86938325, 1.13056399],\n       [0.87729781, 1.15430769],\n       [0.88521238, 1.17013683],\n       [0.86938325, 1.18596596],\n       [0.88521238, 1.1780514 ],\n       [0.87729781, 1.12264942],\n       [0.85355411, 1.09890572],\n       [0.83772498, 1.08307658],\n       [0.83772498, 1.08307658],\n       [0.86146868, 1.10682029],\n       [0.86146868, 1.12264942],\n       [0.88521238, 1.07516201],\n       [0.91687065, 1.12264942],\n       [0.89312695, 1.1780514 ],\n       [0.82981041, 1.14639313],\n       [0.88521238, 1.09099115],\n       [0.84563954, 1.08307658],\n       [0.85355411, 1.08307658],\n       [0.88521238, 1.13056399],\n       [0.85355411, 1.10682029],\n       [0.82981041, 1.04350374],\n       [0.86146868, 1.09099115],\n       [0.88521238, 1.09890572],\n       [0.87729781, 1.09890572],\n       [0.87729781, 1.13847856],\n       [0.84563954, 1.05141831],\n       [0.86938325, 1.09890572],\n       [0.90895609, 1.14639313],\n       [0.86146868, 1.10682029],\n       [0.88521238, 1.20970967],\n       [0.87729781, 1.14639313],\n       [0.88521238, 1.16222226],\n       [0.88521238, 1.24928251],\n       [0.84563954, 1.03558917],\n       [0.87729781, 1.2255388 ],\n       [0.84563954, 1.1780514 ],\n       [0.93269979, 1.21762424],\n       [0.90104152, 1.16222226],\n       [0.86146868, 1.15430769],\n       [0.88521238, 1.18596596],\n       [0.84563954, 1.09890572],\n       [0.86938325, 1.10682029],\n       [0.90104152, 1.15430769],\n       [0.88521238, 1.16222226],\n       [0.94852893, 1.25719708],\n       [0.85355411, 1.25719708],\n       [0.82189584, 1.12264942],\n       [0.90104152, 1.19388053],\n       [0.86938325, 1.09099115],\n       [0.86938325, 1.25719708],\n       [0.86146868, 1.14639313],\n       [0.90895609, 1.1780514 ],\n       [0.90104152, 1.21762424],\n       [0.86938325, 1.13847856],\n       [0.88521238, 1.13056399],\n       [0.86938325, 1.15430769],\n       [0.88521238, 1.21762424],\n       [0.86938325, 1.23345337],\n       [0.94852893, 1.27302621],\n       [0.86938325, 1.15430769],\n       [0.86938325, 1.14639313],\n       [0.85355411, 1.13056399],\n       [0.88521238, 1.25719708],\n       [0.91687065, 1.14639313],\n       [0.89312695, 1.15430769],\n       [0.88521238, 1.12264942],\n       [0.89312695, 1.19388053],\n       [0.89312695, 1.1780514 ],\n       [0.89312695, 1.19388053],\n       [0.86146868, 1.10682029],\n       [0.90104152, 1.18596596],\n       [0.90895609, 1.1780514 ],\n       [0.88521238, 1.1780514 ],\n       [0.84563954, 1.14639313],\n       [0.88521238, 1.16222226],\n       [0.91687065, 1.13847856],\n       [0.88521238, 1.11473485]])"
     },
     "execution_count": 130,
     "metadata": {},
     "output_type": "execute_result"
    }
   ],
   "source": [
    "import pandas as pd\n",
    "import numpy as np\n",
    "# import matplotlib.pyplot as plt\n",
    "from sklearn.datasets import load_iris\n",
    "\n",
    "iris_data = load_iris()\n",
    "iris_df = pd.DataFrame(iris_data.data,columns=iris_data.feature_names)\n",
    "# iris_df.head()\n",
    "iris_df_target = pd.DataFrame(iris_data.target)\n",
    "\n",
    "x = iris_df[['sepal width (cm)','sepal length (cm)']].values\n",
    "y = iris_df_target.values\n",
    "dataset_size = np.size(x)\n",
    "\n",
    "mean_x, mean_y = np.mean(x), np.mean(y)\n",
    "\n",
    "SS_xy = np.sum(y * x) - dataset_size * mean_y * mean_x\n",
    "SS_xx = np.sum(x * x) - dataset_size * mean_x * mean_x\n",
    "\n",
    "a = SS_xy / SS_xx\n",
    "b = mean_y - a * mean_x\n",
    "\n",
    "\n",
    "y_pred = a * x + b\n",
    "y_pred"
   ]
  }
 ],
 "metadata": {
  "kernelspec": {
   "display_name": "Python 3",
   "language": "python",
   "name": "python3"
  },
  "language_info": {
   "codemirror_mode": {
    "name": "ipython",
    "version": 3
   },
   "file_extension": ".py",
   "mimetype": "text/x-python",
   "name": "python",
   "nbconvert_exporter": "python",
   "pygments_lexer": "ipython3",
   "version": "3.6.9"
  }
 },
 "nbformat": 4,
 "nbformat_minor": 4
}
