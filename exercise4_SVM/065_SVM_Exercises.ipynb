{
 "cells": [
  {
   "cell_type": "markdown",
   "metadata": {},
   "source": [
    "# Exercises\n",
    "\n",
    "In this section we have two exercises:\n",
    "1. Implement the polynomial kernel.\n",
    "2. Implement the multiclass C-SVM."
   ]
  },
  {
   "cell_type": "markdown",
   "metadata": {},
   "source": [
    "## Polynomial kernel\n",
    "\n",
    "You need to extend the ``build_kernel`` function and implement the polynomial kernel if the ``kernel_type`` is set to 'poly'. The equation that needs to be implemented:\n",
    "\\begin{equation}\n",
    "K=(X^{T}*Y)^{d}.\n",
    "\\end{equation}"
   ]
  },
  {
   "cell_type": "code",
   "execution_count": 57,
   "metadata": {
    "ExecuteTime": {
     "end_time": "2025-04-22T21:33:30.836560Z",
     "start_time": "2025-04-22T21:33:30.804373Z"
    }
   },
   "outputs": [],
   "source": [
    "def build_kernel(data_set, kernel_type='linear'):\n",
    "    kernel = np.dot(data_set, data_set.T)\n",
    "    if kernel_type == 'rbf':\n",
    "        sigma = 1.0\n",
    "        objects_count = len(data_set)\n",
    "        b = np.ones((len(data_set), 1))\n",
    "        kernel -= 0.5 * (np.dot((np.diag(kernel)*np.ones((1, objects_count))).T, b.T)\n",
    "                         + np.dot(b, (np.diag(kernel) * np.ones((1, objects_count))).T.T))\n",
    "        kernel = np.exp(kernel / (2. * sigma ** 2))\n",
    "    elif kernel_type == 'poly':\n",
    "        kernel = np.dot(data_set, data_set.T) ** d\n",
    "    return kernel"
   ]
  },
  {
   "cell_type": "markdown",
   "metadata": {},
   "source": [
    "## Implement a multiclass C-SVM\n",
    "\n",
    "Use the classification method that we used in notebook 7.3 and IRIS dataset to build a multiclass C-SVM classifier. Most implementation is about a function that will return the proper data set that need to be used for the prediction. You need to implement:\n",
    "- ``choose_set_for_label``\n",
    "- ``get_labels_count``"
   ]
  },
  {
   "cell_type": "code",
   "execution_count": 58,
   "metadata": {
    "ExecuteTime": {
     "end_time": "2025-04-22T21:33:30.840895Z",
     "start_time": "2025-04-22T21:33:30.806793Z"
    }
   },
   "outputs": [],
   "source": [
    "def choose_set_for_label(data_set, labels, classes):\n",
    "    indexes = np.where(np.logical_or(labels == classes[0], labels == classes[1]))[0]\n",
    "    choosen_labels = labels[indexes]\n",
    "    train_labels = np.where(choosen_labels == classes[0], -1, 1)\n",
    "    train_data_set = data_set[indexes]\n",
    "    return train_data_set, train_labels"
   ]
  },
  {
   "cell_type": "code",
   "execution_count": 59,
   "metadata": {
    "ExecuteTime": {
     "end_time": "2025-04-22T21:33:30.841399Z",
     "start_time": "2025-04-22T21:33:30.815167Z"
    }
   },
   "outputs": [],
   "source": [
    "def get_labels_count(data_set):\n",
    "    labels_count = len(np.unique(data_set))\n",
    "    return labels_count"
   ]
  },
  {
   "cell_type": "markdown",
   "source": [
    "Use the code that we have implemented earlier:"
   ],
   "metadata": {
    "collapsed": false
   }
  },
  {
   "cell_type": "code",
   "execution_count": 60,
   "metadata": {
    "ExecuteTime": {
     "end_time": "2025-04-22T21:33:30.841486Z",
     "start_time": "2025-04-22T21:33:30.824526Z"
    }
   },
   "outputs": [],
   "source": [
    "def train(train_data_set, train_labels, kernel_type='linear', C=10, threshold=1e-5):\n",
    "    kernel = build_kernel(train_data_set, kernel_type=kernel_type)\n",
    "    objects_count = len(train_data_set)\n",
    "\n",
    "    P = train_labels * train_labels.transpose() * kernel\n",
    "    q = -np.ones((objects_count, 1))\n",
    "    G = np.concatenate((np.eye(objects_count), -np.eye(objects_count)))\n",
    "    h = np.concatenate((C * np.ones((objects_count, 1)), np.zeros((objects_count, 1))))\n",
    "\n",
    "    A = train_labels.reshape(1, objects_count)\n",
    "    A = A.astype(float)\n",
    "    b = 0.0\n",
    "\n",
    "    sol = cvxopt.solvers.qp(cvxopt.matrix(P), cvxopt.matrix(q), cvxopt.matrix(G), cvxopt.matrix(h), cvxopt.matrix(A), cvxopt.matrix(b))\n",
    "\n",
    "    lambdas = np.array(sol['x'])\n",
    "\n",
    "    support_vectors_id = np.where(lambdas > threshold)[0]\n",
    "    vector_number = len(support_vectors_id)\n",
    "    support_vectors = train_data_set[support_vectors_id, :]\n",
    "\n",
    "    lambdas = lambdas[support_vectors_id]\n",
    "    targets = train_labels[support_vectors_id]\n",
    "\n",
    "    b = np.sum(targets)\n",
    "    for n in range(vector_number):\n",
    "        b -= np.sum(lambdas * targets * np.reshape(kernel[support_vectors_id[n], support_vectors_id], (vector_number, 1)))\n",
    "    b /= len(lambdas)\n",
    "\n",
    "    return lambdas, support_vectors, support_vectors_id, b, targets, vector_number\n",
    "\n",
    "def build_kernel(data_set, kernel_type='linear'):\n",
    "    kernel = np.dot(data_set, data_set.T)\n",
    "    if kernel_type == 'rbf':\n",
    "        sigma = 1.0\n",
    "        objects_count = len(data_set)\n",
    "        b = np.ones((len(data_set), 1))\n",
    "        kernel -= 0.5 * (np.dot((np.diag(kernel)*np.ones((1, objects_count))).T, b.T)\n",
    "                         + np.dot(b, (np.diag(kernel) * np.ones((1, objects_count))).T.T))\n",
    "        kernel = np.exp(kernel / (2. * sigma ** 2))\n",
    "    return kernel\n",
    "\n",
    "def classify_rbf(test_data_set, train_data_set, lambdas, targets, b, vector_number, support_vectors, support_vectors_id):\n",
    "    kernel = np.dot(test_data_set, support_vectors.T)\n",
    "    sigma = 1.0\n",
    "    #K = np.dot(test_data_set, support_vectors.T)\n",
    "    #kernel = build_kernel(train_data_set, kernel_type='rbf')\n",
    "    c = (1. / sigma * np.sum(test_data_set ** 2, axis=1) * np.ones((1, np.shape(test_data_set)[0]))).T\n",
    "    c = np.dot(c, np.ones((1, np.shape(kernel)[1])))\n",
    "    #aa = np.dot((np.diag(K)*np.ones((1,len(test_data_set)))).T[support_vectors_id], np.ones((1, np.shape(K)[0]))).T\n",
    "    sv = (np.diag(np.dot(train_data_set, train_data_set.T))*np.ones((1,len(train_data_set)))).T[support_vectors_id]\n",
    "    aa = np.dot(sv,np.ones((1,np.shape(kernel)[0]))).T\n",
    "    kernel = kernel - 0.5 * c - 0.5 * aa\n",
    "    kernel = np.exp(kernel / (2. * sigma ** 2))\n",
    "\n",
    "    y = np.zeros((np.shape(test_data_set)[0], 1))\n",
    "    for j in range(np.shape(test_data_set)[0]):\n",
    "        for i in range(vector_number):\n",
    "            y[j] += lambdas[i] * targets[i] * kernel[j, i]\n",
    "        y[j] += b\n",
    "    return np.sign(y)"
   ]
  },
  {
   "cell_type": "code",
   "execution_count": 61,
   "metadata": {
    "ExecuteTime": {
     "end_time": "2025-04-22T21:33:30.862869Z",
     "start_time": "2025-04-22T21:33:30.830794Z"
    }
   },
   "outputs": [
    {
     "name": "stdout",
     "output_type": "stream",
     "text": [
      "     pcost       dcost       gap    pres   dres\n",
      " 0:  9.4671e+01 -9.7399e+02  1e+03  7e-16  2e-15\n",
      " 1:  1.3716e+01 -4.5874e+01  6e+01  7e-16  3e-15\n",
      " 2:  8.9814e-02 -5.6899e+00  6e+00  3e-16  1e-15\n",
      " 3: -1.2866e+00 -1.9302e+00  6e-01  2e-16  5e-16\n",
      " 4: -1.4097e+00 -1.5815e+00  2e-01  2e-16  3e-16\n",
      " 5: -1.4742e+00 -1.5285e+00  5e-02  3e-16  3e-16\n",
      " 6: -1.4996e+00 -1.5107e+00  1e-02  2e-16  2e-16\n",
      " 7: -1.5058e+00 -1.5060e+00  2e-04  8e-16  3e-16\n",
      " 8: -1.5059e+00 -1.5059e+00  3e-06  3e-16  4e-16\n",
      " 9: -1.5059e+00 -1.5059e+00  3e-08  2e-16  4e-16\n",
      "Optimal solution found.\n",
      "     pcost       dcost       gap    pres   dres\n",
      " 0:  1.0473e+02 -1.0015e+03  1e+03  9e-16  2e-15\n",
      " 1:  1.5411e+01 -5.1601e+01  7e+01  5e-16  3e-15\n",
      " 2: -5.8770e-03 -6.5701e+00  7e+00  2e-16  1e-15\n",
      " 3: -1.5724e+00 -2.2854e+00  7e-01  2e-16  4e-16\n",
      " 4: -1.7594e+00 -1.9425e+00  2e-01  1e-16  2e-16\n",
      " 5: -1.8170e+00 -1.8703e+00  5e-02  4e-16  3e-16\n",
      " 6: -1.8430e+00 -1.8563e+00  1e-02  7e-16  3e-16\n",
      " 7: -1.8478e+00 -1.8484e+00  7e-04  3e-16  3e-16\n",
      " 8: -1.8480e+00 -1.8480e+00  7e-06  4e-16  3e-16\n",
      " 9: -1.8480e+00 -1.8480e+00  7e-08  2e-16  3e-16\n",
      "Optimal solution found.\n",
      "     pcost       dcost       gap    pres   dres\n",
      " 0:  7.7696e+01 -1.0453e+03  2e+03  2e-01  2e-15\n",
      " 1:  4.8932e+01 -1.0308e+02  2e+02  6e-03  2e-15\n",
      " 2:  5.8946e+00 -1.4048e+01  2e+01  2e-16  2e-15\n",
      " 3: -5.2652e-01 -3.2436e+00  3e+00  2e-16  9e-16\n",
      " 4: -1.1197e+00 -1.6481e+00  5e-01  3e-16  4e-16\n",
      " 5: -1.2403e+00 -1.3896e+00  1e-01  2e-16  2e-16\n",
      " 6: -1.3115e+00 -1.3887e+00  8e-02  2e-16  3e-16\n",
      " 7: -1.3279e+00 -1.3332e+00  5e-03  2e-16  3e-16\n",
      " 8: -1.3301e+00 -1.3304e+00  3e-04  2e-16  3e-16\n",
      " 9: -1.3303e+00 -1.3303e+00  5e-06  2e-16  3e-16\n",
      "10: -1.3303e+00 -1.3303e+00  5e-08  2e-16  3e-16\n",
      "Optimal solution found.\n",
      "0.55\n"
     ]
    }
   ],
   "source": [
    "from sklearn.datasets import load_iris\n",
    "import numpy as np\n",
    "from sklearn.model_selection import train_test_split\n",
    "import cvxopt\n",
    "from itertools import combinations\n",
    "\n",
    "iris = load_iris()\n",
    "data_set = iris.data\n",
    "labels = iris.target\n",
    "\n",
    "train_data_set, test_data_set, train_labels, test_labels = train_test_split(data_set, labels, test_size=0.4, random_state=15)\n",
    "\n",
    "predictions = []\n",
    "labels_combinations = list(combinations(range(get_labels_count(labels)), 2))\n",
    "\n",
    "for combination in labels_combinations:\n",
    "    train_data, train_labels_new = choose_set_for_label(train_data_set, train_labels, combination)\n",
    "    lambdas, support_vectors, support_vectors_id, b, targets, vector_number = train(train_data, train_labels_new, kernel_type='rbf')\n",
    "    predicted = classify_rbf(test_data_set, train_data, lambdas, targets, b, vector_number, support_vectors, support_vectors_id)\n",
    "    predicted = np.where(predicted == -1, combination[0], combination[1])\n",
    "    predictions.append(predicted.flatten())\n",
    "\n",
    "predictions = np.array(predictions)\n",
    "\n",
    "predicted = []\n",
    "for i in range(len(test_data_set)):\n",
    "    classified = predictions[:, i]\n",
    "    predicted.append(np.argmax(np.bincount(classified)))\n",
    "\n",
    "from sklearn.metrics import accuracy_score\n",
    "\n",
    "print(accuracy_score(predicted, test_labels))"
   ]
  }
 ],
 "metadata": {
  "kernelspec": {
   "display_name": "Python 3",
   "language": "python",
   "name": "python3"
  },
  "language_info": {
   "codemirror_mode": {
    "name": "ipython",
    "version": 3
   },
   "file_extension": ".py",
   "mimetype": "text/x-python",
   "name": "python",
   "nbconvert_exporter": "python",
   "pygments_lexer": "ipython3",
   "version": "3.7.3"
  }
 },
 "nbformat": 4,
 "nbformat_minor": 4
}
